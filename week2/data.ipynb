{
 "cells": [
  {
   "cell_type": "markdown",
   "metadata": {},
   "source": [
    "### Importing Modules"
   ]
  },
  {
   "cell_type": "code",
   "execution_count": 1,
   "metadata": {},
   "outputs": [],
   "source": [
    "import pandas as pd\n",
    "import numpy as np"
   ]
  },
  {
   "cell_type": "markdown",
   "metadata": {},
   "source": [
    "### Thermodynamics"
   ]
  },
  {
   "cell_type": "code",
   "execution_count": 3,
   "metadata": {},
   "outputs": [
    {
     "name": "stdout",
     "output_type": "stream",
     "text": [
      "44\n",
      "44\n"
     ]
    }
   ],
   "source": [
    "df = pd.read_csv(\"E:\\All Repositories\\C-Partners\\week2\\Book1.csv\")\n",
    "# Temperature List\n",
    "temp_list = df['Column1'].to_list()\n",
    "\n",
    "# print(len(temp_list))\n",
    "\n",
    "del temp_list[0:3]\n",
    "for i in range(0, len(temp_list)):\n",
    "    temp_list[i] = float(temp_list[i])\n",
    "\n",
    "# Pressure List\n",
    "press_list = df['Column2'].to_list()\n",
    "\n",
    "# print(len(press_list))\n",
    "del press_list[0:3]\n",
    "for i in range(0, len(press_list)):\n",
    "    press_list[i] = float(press_list[i])\n",
    "\n",
    "# optimizing my code\n",
    "\n"
   ]
  },
  {
   "cell_type": "code",
   "execution_count": 6,
   "metadata": {},
   "outputs": [
    {
     "name": "stdout",
     "output_type": "stream",
     "text": [
      "84.609\n"
     ]
    }
   ],
   "source": [
    "xp = temp_list\n",
    "yp = press_list\n",
    "result = np.interp(input(\"Ingrese la temperatura a interpolar:\\n\"), xp, yp)\n",
    "print(result)"
   ]
  },
  {
   "cell_type": "markdown",
   "metadata": {},
   "source": [
    "### EXTRA"
   ]
  },
  {
   "cell_type": "code",
   "execution_count": 4,
   "metadata": {},
   "outputs": [
    {
     "data": {
      "image/png": "[encoded data removed]",
      "text/plain": [
       "<Figure size 432x288 with 1 Axes>"
      ]
     },
     "metadata": {
      "needs_background": "light"
     },
     "output_type": "display_data"
    }
   ],
   "source": [
    "import matplotlib.pyplot as plt\n",
    "x = [-1.0, -0.7, -0.4, -0.1, 0.2, 0.5, 0.8, 1]\n",
    "y = [36.547, 17.264, 8.155, 3.852, 1.820, 0.860, 0.406, 0.246]\n",
    "plt.scatter(x,y)\n",
    "plt.show()"
   ]
  }
 ],
 "metadata": {
  "interpreter": {
   "hash": "cfcfbbd76e88e95dc35e2ca9edf0c1e882d0553cc29bc4cac8c0f4eabeb0ecb9"
  },
  "kernelspec": {
   "display_name": "Python 3.10.4 64-bit",
   "language": "python",
   "name": "python3"
  },
  "language_info": {
   "codemirror_mode": {
    "name": "ipython",
    "version": 3
   },
   "file_extension": ".py",
   "mimetype": "text/x-python",
   "name": "python",
   "nbconvert_exporter": "python",
   "pygments_lexer": "ipython3",
   "version": "3.10.4"
  },
  "orig_nbformat": 4
 },
 "nbformat": 4,
 "nbformat_minor": 2
}
